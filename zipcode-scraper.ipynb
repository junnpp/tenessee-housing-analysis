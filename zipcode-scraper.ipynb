{
 "cells": [
  {
   "cell_type": "code",
   "execution_count": 4,
   "id": "2176b4a7-58ff-4a4a-856d-0cf93d1ee174",
   "metadata": {},
   "outputs": [],
   "source": [
    "import requests\n",
    "import pandas as pd\n",
    "from bs4 import BeautifulSoup"
   ]
  },
  {
   "cell_type": "code",
   "execution_count": 169,
   "id": "88398404-2dac-43d8-9ce4-61fbd416a981",
   "metadata": {},
   "outputs": [],
   "source": [
    "# get the Tennessee zipcode per city data from the website\n",
    "url = \"https://www.zip-codes.com/state/tn.asp\"\n",
    "html = requests.get(url)\n",
    "soup = BeautifulSoup(html.content, \"html.parser\")\n",
    "results = soup.find(id=\"tblZIP\")"
   ]
  },
  {
   "cell_type": "code",
   "execution_count": 170,
   "id": "1f0b740f-ab56-465e-ac5d-b4f8e45639ad",
   "metadata": {},
   "outputs": [],
   "source": [
    "# extract all the table row html elements\n",
    "table_rows = results.find_all(\"tr\")"
   ]
  },
  {
   "cell_type": "code",
   "execution_count": 171,
   "id": "9a71e778-b270-4cf0-99cc-714ef48bf39d",
   "metadata": {},
   "outputs": [
    {
     "data": {
      "text/plain": [
       "{'ZIP Code': [], 'City': [], 'County': [], 'Type': []}"
      ]
     },
     "execution_count": 171,
     "metadata": {},
     "output_type": "execute_result"
    }
   ],
   "source": [
    "# initialize the dictionary with corresponding headers\n",
    "zip_codes = dict()\n",
    "for header in table_rows[0].find_all(\"td\"):\n",
    "    zip_codes[header.text] = list()\n",
    "zip_codes"
   ]
  },
  {
   "cell_type": "code",
   "execution_count": 172,
   "id": "b4a5a6c4-b83c-4f06-a0b3-2881f416fd23",
   "metadata": {
    "tags": []
   },
   "outputs": [],
   "source": [
    "# put each column value into the corresponding key value\n",
    "for row in table_rows[1:]:\n",
    "    cur_row = row.find_all(\"td\")\n",
    "    for idx in range(len(cur_row)):\n",
    "        if idx == 0:\n",
    "            zip_codes[\"ZIP Code\"].append(cur_row[idx].text)\n",
    "        elif idx == 1:\n",
    "            zip_codes[\"City\"].append(cur_row[idx].text)\n",
    "        elif idx == 2:\n",
    "            zip_codes[\"County\"].append(cur_row[idx].text)\n",
    "        else:\n",
    "            zip_codes[\"Type\"].append(cur_row[idx].text)"
   ]
  },
  {
   "cell_type": "code",
   "execution_count": 176,
   "id": "0f39e837-0a77-44d0-ac2f-905600980a63",
   "metadata": {},
   "outputs": [
    {
     "data": {
      "text/html": [
       "<div>\n",
       "<style scoped>\n",
       "    .dataframe tbody tr th:only-of-type {\n",
       "        vertical-align: middle;\n",
       "    }\n",
       "\n",
       "    .dataframe tbody tr th {\n",
       "        vertical-align: top;\n",
       "    }\n",
       "\n",
       "    .dataframe thead th {\n",
       "        text-align: right;\n",
       "    }\n",
       "</style>\n",
       "<table border=\"1\" class=\"dataframe\">\n",
       "  <thead>\n",
       "    <tr style=\"text-align: right;\">\n",
       "      <th></th>\n",
       "      <th>ZIP Code</th>\n",
       "      <th>City</th>\n",
       "    </tr>\n",
       "  </thead>\n",
       "  <tbody>\n",
       "    <tr>\n",
       "      <th>0</th>\n",
       "      <td>ZIP Code 37010</td>\n",
       "      <td>Adams</td>\n",
       "    </tr>\n",
       "    <tr>\n",
       "      <th>1</th>\n",
       "      <td>ZIP Code 37011</td>\n",
       "      <td>Antioch</td>\n",
       "    </tr>\n",
       "    <tr>\n",
       "      <th>2</th>\n",
       "      <td>ZIP Code 37012</td>\n",
       "      <td>Alexandria</td>\n",
       "    </tr>\n",
       "    <tr>\n",
       "      <th>3</th>\n",
       "      <td>ZIP Code 37013</td>\n",
       "      <td>Antioch</td>\n",
       "    </tr>\n",
       "    <tr>\n",
       "      <th>4</th>\n",
       "      <td>ZIP Code 37014</td>\n",
       "      <td>Arrington</td>\n",
       "    </tr>\n",
       "  </tbody>\n",
       "</table>\n",
       "</div>"
      ],
      "text/plain": [
       "         ZIP Code        City\n",
       "0  ZIP Code 37010       Adams\n",
       "1  ZIP Code 37011     Antioch\n",
       "2  ZIP Code 37012  Alexandria\n",
       "3  ZIP Code 37013     Antioch\n",
       "4  ZIP Code 37014   Arrington"
      ]
     },
     "execution_count": 176,
     "metadata": {},
     "output_type": "execute_result"
    }
   ],
   "source": [
    "# convert the dictionary to a dataframe and select `ZIP Code` and `City` columns\n",
    "df = pd.DataFrame(zip_codes)\n",
    "df = df[[\"ZIP Code\", \"City\"]]\n",
    "df.head()"
   ]
  },
  {
   "cell_type": "code",
   "execution_count": 177,
   "id": "334900ca-33f7-4aec-ad7e-9d8b1632a6c6",
   "metadata": {},
   "outputs": [],
   "source": [
    "# extract zipcode with `ZIP Code` column\n",
    "zips = list()\n",
    "for zip_code in df[\"ZIP Code\"].str.split(\" \"):\n",
    "    zips.append(zip_code[2])\n",
    "    \n",
    "df[\"ZIP Code\"] = zips"
   ]
  },
  {
   "cell_type": "code",
   "execution_count": 178,
   "id": "503208be-bcb0-47cd-9f22-7329cf1b6374",
   "metadata": {},
   "outputs": [],
   "source": [
    "df.to_csv(\"./data/Zipcodes.csv\", index=False)"
   ]
  }
 ],
 "metadata": {
  "kernelspec": {
   "display_name": "Python 3 (ipykernel)",
   "language": "python",
   "name": "python3"
  },
  "language_info": {
   "codemirror_mode": {
    "name": "ipython",
    "version": 3
   },
   "file_extension": ".py",
   "mimetype": "text/x-python",
   "name": "python",
   "nbconvert_exporter": "python",
   "pygments_lexer": "ipython3",
   "version": "3.9.7"
  }
 },
 "nbformat": 4,
 "nbformat_minor": 5
}
